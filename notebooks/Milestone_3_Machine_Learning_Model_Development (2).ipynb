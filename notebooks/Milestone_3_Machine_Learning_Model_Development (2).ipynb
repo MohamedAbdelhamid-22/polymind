{
  "cells": [
    {
      "cell_type": "markdown",
      "id": "558d2f42-7d3e-4217-9dd1-4fad77357e7e",
      "metadata": {
        "id": "558d2f42-7d3e-4217-9dd1-4fad77357e7e"
      },
      "source": [
        "## Importing Libraries"
      ]
    },
    {
      "cell_type": "code",
      "execution_count": 1,
      "id": "b6e7d4f8-adc1-4885-9bcb-a35965a48349",
      "metadata": {
        "id": "b6e7d4f8-adc1-4885-9bcb-a35965a48349"
      },
      "outputs": [],
      "source": [
        "# For data preprocessing\n",
        "import pandas as pd\n",
        "import numpy as np\n",
        "import warnings\n",
        "warnings.filterwarnings('ignore')\n",
        "\n",
        "# To build visualizations\n",
        "from matplotlib.pyplot import figure\n",
        "import matplotlib.pyplot as plt\n",
        "import seaborn as sns\n",
        "\n",
        "# Modeling\n",
        "from sklearn.linear_model import LinearRegression\n",
        "from sklearn.ensemble import RandomForestRegressor\n",
        "from lightgbm import LGBMRegressor\n",
        "from xgboost import XGBRegressor\n",
        "from sklearn.model_selection import RandomizedSearchCV\n",
        "from sklearn.metrics import mean_squared_error, mean_absolute_error, mean_squared_log_error\n",
        "from sklearn.model_selection import train_test_split\n",
        "\n",
        "# Saving the model\n",
        "import pickle"
      ]
    },
    {
      "cell_type": "code",
      "execution_count": 2,
      "id": "53fbbc4f-1575-4916-ac8a-503404caf1d3",
      "metadata": {
        "colab": {
          "base_uri": "https://localhost:8080/"
        },
        "id": "53fbbc4f-1575-4916-ac8a-503404caf1d3",
        "outputId": "43c6a515-898a-48a6-dc03-a1e0e3e82440"
      },
      "outputs": [
        {
          "output_type": "stream",
          "name": "stdout",
          "text": [
            "Requirement already satisfied: xlrd in /usr/local/lib/python3.11/dist-packages (2.0.1)\n"
          ]
        }
      ],
      "source": [
        "!pip install xlrd"
      ]
    },
    {
      "cell_type": "markdown",
      "id": "d3ef2cf2-e91a-4d46-9f80-b4c86ed0e4ff",
      "metadata": {
        "id": "d3ef2cf2-e91a-4d46-9f80-b4c86ed0e4ff"
      },
      "source": [
        "## Data Loading"
      ]
    },
    {
      "cell_type": "code",
      "source": [
        "from google.colab import drive\n",
        "drive.mount('/content/drive')"
      ],
      "metadata": {
        "colab": {
          "base_uri": "https://localhost:8080/"
        },
        "id": "k1hbDzDwuWxJ",
        "outputId": "717376e8-8357-4cbe-9ef1-6b55f2231c69"
      },
      "id": "k1hbDzDwuWxJ",
      "execution_count": 3,
      "outputs": [
        {
          "output_type": "stream",
          "name": "stdout",
          "text": [
            "Mounted at /content/drive\n"
          ]
        }
      ]
    },
    {
      "cell_type": "code",
      "execution_count": 4,
      "id": "64a21d2a-7ced-4857-a751-7908b1074b31",
      "metadata": {
        "id": "64a21d2a-7ced-4857-a751-7908b1074b31"
      },
      "outputs": [],
      "source": [
        "train = pd.read_csv('/content/drive/MyDrive/favorita-grocery-sales-forecasting/train_final.csv')"
      ]
    },
    {
      "cell_type": "code",
      "execution_count": 5,
      "id": "a3487f36-44af-4d56-b137-ef083ac21d47",
      "metadata": {
        "colab": {
          "base_uri": "https://localhost:8080/",
          "height": 1000
        },
        "id": "a3487f36-44af-4d56-b137-ef083ac21d47",
        "outputId": "202167ae-cb3f-40fd-b655-d07063e80dd9"
      },
      "outputs": [
        {
          "output_type": "execute_result",
          "data": {
            "text/plain": [
              "store_nbr               0\n",
              "sales                   0\n",
              "onpromotion             0\n",
              "cluster                 0\n",
              "dcoilwtico              0\n",
              "year                    0\n",
              "day                     0\n",
              "month                   0\n",
              "week                    0\n",
              "day_of_week             0\n",
              "is_weekend              0\n",
              "quarter                 0\n",
              "season                  0\n",
              "Days_to_Thanksgiving    0\n",
              "Days_to_Christmas       0\n",
              "is_holiday              0\n",
              "price                   0\n",
              "log_sales               0\n",
              "lag_1_log_sales         0\n",
              "lag_7_log_sales         0\n",
              "lag_14_log_sales        0\n",
              "lag_promo_1             0\n",
              "rolling_promo_7         0\n",
              "rolling_7_log_sales     0\n",
              "rolling_14_log_sales    0\n",
              "family_0                0\n",
              "family_1                0\n",
              "family_2                0\n",
              "family_3                0\n",
              "family_4                0\n",
              "family_5                0\n",
              "city_0                  0\n",
              "city_1                  0\n",
              "city_2                  0\n",
              "city_3                  0\n",
              "city_4                  0\n",
              "holiday_type_0          0\n",
              "holiday_type_1          0\n",
              "holiday_type_2          0\n",
              "store_type_0            0\n",
              "store_type_1            0\n",
              "store_type_2            0\n",
              "dtype: int64"
            ],
            "text/html": [
              "<div>\n",
              "<style scoped>\n",
              "    .dataframe tbody tr th:only-of-type {\n",
              "        vertical-align: middle;\n",
              "    }\n",
              "\n",
              "    .dataframe tbody tr th {\n",
              "        vertical-align: top;\n",
              "    }\n",
              "\n",
              "    .dataframe thead th {\n",
              "        text-align: right;\n",
              "    }\n",
              "</style>\n",
              "<table border=\"1\" class=\"dataframe\">\n",
              "  <thead>\n",
              "    <tr style=\"text-align: right;\">\n",
              "      <th></th>\n",
              "      <th>0</th>\n",
              "    </tr>\n",
              "  </thead>\n",
              "  <tbody>\n",
              "    <tr>\n",
              "      <th>store_nbr</th>\n",
              "      <td>0</td>\n",
              "    </tr>\n",
              "    <tr>\n",
              "      <th>sales</th>\n",
              "      <td>0</td>\n",
              "    </tr>\n",
              "    <tr>\n",
              "      <th>onpromotion</th>\n",
              "      <td>0</td>\n",
              "    </tr>\n",
              "    <tr>\n",
              "      <th>cluster</th>\n",
              "      <td>0</td>\n",
              "    </tr>\n",
              "    <tr>\n",
              "      <th>dcoilwtico</th>\n",
              "      <td>0</td>\n",
              "    </tr>\n",
              "    <tr>\n",
              "      <th>year</th>\n",
              "      <td>0</td>\n",
              "    </tr>\n",
              "    <tr>\n",
              "      <th>day</th>\n",
              "      <td>0</td>\n",
              "    </tr>\n",
              "    <tr>\n",
              "      <th>month</th>\n",
              "      <td>0</td>\n",
              "    </tr>\n",
              "    <tr>\n",
              "      <th>week</th>\n",
              "      <td>0</td>\n",
              "    </tr>\n",
              "    <tr>\n",
              "      <th>day_of_week</th>\n",
              "      <td>0</td>\n",
              "    </tr>\n",
              "    <tr>\n",
              "      <th>is_weekend</th>\n",
              "      <td>0</td>\n",
              "    </tr>\n",
              "    <tr>\n",
              "      <th>quarter</th>\n",
              "      <td>0</td>\n",
              "    </tr>\n",
              "    <tr>\n",
              "      <th>season</th>\n",
              "      <td>0</td>\n",
              "    </tr>\n",
              "    <tr>\n",
              "      <th>Days_to_Thanksgiving</th>\n",
              "      <td>0</td>\n",
              "    </tr>\n",
              "    <tr>\n",
              "      <th>Days_to_Christmas</th>\n",
              "      <td>0</td>\n",
              "    </tr>\n",
              "    <tr>\n",
              "      <th>is_holiday</th>\n",
              "      <td>0</td>\n",
              "    </tr>\n",
              "    <tr>\n",
              "      <th>price</th>\n",
              "      <td>0</td>\n",
              "    </tr>\n",
              "    <tr>\n",
              "      <th>log_sales</th>\n",
              "      <td>0</td>\n",
              "    </tr>\n",
              "    <tr>\n",
              "      <th>lag_1_log_sales</th>\n",
              "      <td>0</td>\n",
              "    </tr>\n",
              "    <tr>\n",
              "      <th>lag_7_log_sales</th>\n",
              "      <td>0</td>\n",
              "    </tr>\n",
              "    <tr>\n",
              "      <th>lag_14_log_sales</th>\n",
              "      <td>0</td>\n",
              "    </tr>\n",
              "    <tr>\n",
              "      <th>lag_promo_1</th>\n",
              "      <td>0</td>\n",
              "    </tr>\n",
              "    <tr>\n",
              "      <th>rolling_promo_7</th>\n",
              "      <td>0</td>\n",
              "    </tr>\n",
              "    <tr>\n",
              "      <th>rolling_7_log_sales</th>\n",
              "      <td>0</td>\n",
              "    </tr>\n",
              "    <tr>\n",
              "      <th>rolling_14_log_sales</th>\n",
              "      <td>0</td>\n",
              "    </tr>\n",
              "    <tr>\n",
              "      <th>family_0</th>\n",
              "      <td>0</td>\n",
              "    </tr>\n",
              "    <tr>\n",
              "      <th>family_1</th>\n",
              "      <td>0</td>\n",
              "    </tr>\n",
              "    <tr>\n",
              "      <th>family_2</th>\n",
              "      <td>0</td>\n",
              "    </tr>\n",
              "    <tr>\n",
              "      <th>family_3</th>\n",
              "      <td>0</td>\n",
              "    </tr>\n",
              "    <tr>\n",
              "      <th>family_4</th>\n",
              "      <td>0</td>\n",
              "    </tr>\n",
              "    <tr>\n",
              "      <th>family_5</th>\n",
              "      <td>0</td>\n",
              "    </tr>\n",
              "    <tr>\n",
              "      <th>city_0</th>\n",
              "      <td>0</td>\n",
              "    </tr>\n",
              "    <tr>\n",
              "      <th>city_1</th>\n",
              "      <td>0</td>\n",
              "    </tr>\n",
              "    <tr>\n",
              "      <th>city_2</th>\n",
              "      <td>0</td>\n",
              "    </tr>\n",
              "    <tr>\n",
              "      <th>city_3</th>\n",
              "      <td>0</td>\n",
              "    </tr>\n",
              "    <tr>\n",
              "      <th>city_4</th>\n",
              "      <td>0</td>\n",
              "    </tr>\n",
              "    <tr>\n",
              "      <th>holiday_type_0</th>\n",
              "      <td>0</td>\n",
              "    </tr>\n",
              "    <tr>\n",
              "      <th>holiday_type_1</th>\n",
              "      <td>0</td>\n",
              "    </tr>\n",
              "    <tr>\n",
              "      <th>holiday_type_2</th>\n",
              "      <td>0</td>\n",
              "    </tr>\n",
              "    <tr>\n",
              "      <th>store_type_0</th>\n",
              "      <td>0</td>\n",
              "    </tr>\n",
              "    <tr>\n",
              "      <th>store_type_1</th>\n",
              "      <td>0</td>\n",
              "    </tr>\n",
              "    <tr>\n",
              "      <th>store_type_2</th>\n",
              "      <td>0</td>\n",
              "    </tr>\n",
              "  </tbody>\n",
              "</table>\n",
              "</div><br><label><b>dtype:</b> int64</label>"
            ]
          },
          "metadata": {},
          "execution_count": 5
        }
      ],
      "source": [
        "train.isnull().sum()"
      ]
    },
    {
      "cell_type": "code",
      "execution_count": 6,
      "id": "f49945c3-6d4f-4ee2-ba9d-e2e6738a170a",
      "metadata": {
        "colab": {
          "base_uri": "https://localhost:8080/"
        },
        "id": "f49945c3-6d4f-4ee2-ba9d-e2e6738a170a",
        "outputId": "e5ca6300-3074-45b0-ab94-42c6d4b06bb7"
      },
      "outputs": [
        {
          "output_type": "execute_result",
          "data": {
            "text/plain": [
              "Index(['store_nbr', 'sales', 'onpromotion', 'cluster', 'dcoilwtico', 'year',\n",
              "       'day', 'month', 'week', 'day_of_week', 'is_weekend', 'quarter',\n",
              "       'season', 'Days_to_Thanksgiving', 'Days_to_Christmas', 'is_holiday',\n",
              "       'price', 'log_sales', 'lag_1_log_sales', 'lag_7_log_sales',\n",
              "       'lag_14_log_sales', 'lag_promo_1', 'rolling_promo_7',\n",
              "       'rolling_7_log_sales', 'rolling_14_log_sales', 'family_0', 'family_1',\n",
              "       'family_2', 'family_3', 'family_4', 'family_5', 'city_0', 'city_1',\n",
              "       'city_2', 'city_3', 'city_4', 'holiday_type_0', 'holiday_type_1',\n",
              "       'holiday_type_2', 'store_type_0', 'store_type_1', 'store_type_2'],\n",
              "      dtype='object')"
            ]
          },
          "metadata": {},
          "execution_count": 6
        }
      ],
      "source": [
        "train.columns"
      ]
    },
    {
      "cell_type": "markdown",
      "id": "665bdc29-78a1-4ef8-b6fd-742e7d582259",
      "metadata": {
        "id": "665bdc29-78a1-4ef8-b6fd-742e7d582259"
      },
      "source": [
        "# Modeling"
      ]
    },
    {
      "cell_type": "markdown",
      "id": "cd5a583d-a964-40b7-a723-c8738f839037",
      "metadata": {
        "id": "cd5a583d-a964-40b7-a723-c8738f839037"
      },
      "source": [
        "### Data Splitting"
      ]
    },
    {
      "cell_type": "code",
      "execution_count": 7,
      "id": "a43f2a03-02a1-4611-b2a8-8cc40814fca0",
      "metadata": {
        "id": "a43f2a03-02a1-4611-b2a8-8cc40814fca0"
      },
      "outputs": [],
      "source": [
        "train_set = train.loc[train['year'].isin([2013, 2014, 2015, 2016])].copy()\n",
        "eval_set = train.loc[train['year'] == 2017].copy()"
      ]
    },
    {
      "cell_type": "code",
      "execution_count": 8,
      "id": "fcac27ad-559e-473d-94cd-26ac5057434d",
      "metadata": {
        "colab": {
          "base_uri": "https://localhost:8080/"
        },
        "id": "fcac27ad-559e-473d-94cd-26ac5057434d",
        "outputId": "2dfa087e-3ca0-4e5a-b7ae-c412250f841d"
      },
      "outputs": [
        {
          "output_type": "execute_result",
          "data": {
            "text/plain": [
              "(284068, 42)"
            ]
          },
          "metadata": {},
          "execution_count": 8
        }
      ],
      "source": [
        "train_set.shape"
      ]
    },
    {
      "cell_type": "code",
      "execution_count": 9,
      "id": "15a3c290-1865-4c07-93fb-b9eae517e0b3",
      "metadata": {
        "colab": {
          "base_uri": "https://localhost:8080/",
          "height": 255
        },
        "id": "15a3c290-1865-4c07-93fb-b9eae517e0b3",
        "outputId": "02605da5-c5f2-4ada-b71a-076294847cac"
      },
      "outputs": [
        {
          "output_type": "execute_result",
          "data": {
            "text/plain": [
              "   store_nbr    sales  onpromotion  cluster  dcoilwtico  year  day  month  \\\n",
              "0       25.0    0.000            0        1       93.14  2013    1      1   \n",
              "1       25.0  180.589            0        1       93.14  2013    1      1   \n",
              "2       25.0    0.000            0        1       93.14  2013    1      1   \n",
              "3       25.0  810.000            0        1       93.14  2013    1      1   \n",
              "4       25.0    2.000            0        1       93.14  2013    1      1   \n",
              "\n",
              "   week  day_of_week  ...  city_1  city_2  city_3  city_4  holiday_type_0  \\\n",
              "0     1            1  ...       0       0       0       1               0   \n",
              "1     1            1  ...       0       0       0       1               0   \n",
              "2     1            1  ...       0       0       0       1               0   \n",
              "3     1            1  ...       0       0       0       1               0   \n",
              "4     1            1  ...       0       0       0       1               0   \n",
              "\n",
              "   holiday_type_1  holiday_type_2  store_type_0  store_type_1  store_type_2  \n",
              "0               0               1             0             0             1  \n",
              "1               0               1             0             0             1  \n",
              "2               0               1             0             0             1  \n",
              "3               0               1             0             0             1  \n",
              "4               0               1             0             0             1  \n",
              "\n",
              "[5 rows x 42 columns]"
            ],
            "text/html": [
              "\n",
              "  <div id=\"df-fc7a0471-fa5e-47d1-a192-389c774d75eb\" class=\"colab-df-container\">\n",
              "    <div>\n",
              "<style scoped>\n",
              "    .dataframe tbody tr th:only-of-type {\n",
              "        vertical-align: middle;\n",
              "    }\n",
              "\n",
              "    .dataframe tbody tr th {\n",
              "        vertical-align: top;\n",
              "    }\n",
              "\n",
              "    .dataframe thead th {\n",
              "        text-align: right;\n",
              "    }\n",
              "</style>\n",
              "<table border=\"1\" class=\"dataframe\">\n",
              "  <thead>\n",
              "    <tr style=\"text-align: right;\">\n",
              "      <th></th>\n",
              "      <th>store_nbr</th>\n",
              "      <th>sales</th>\n",
              "      <th>onpromotion</th>\n",
              "      <th>cluster</th>\n",
              "      <th>dcoilwtico</th>\n",
              "      <th>year</th>\n",
              "      <th>day</th>\n",
              "      <th>month</th>\n",
              "      <th>week</th>\n",
              "      <th>day_of_week</th>\n",
              "      <th>...</th>\n",
              "      <th>city_1</th>\n",
              "      <th>city_2</th>\n",
              "      <th>city_3</th>\n",
              "      <th>city_4</th>\n",
              "      <th>holiday_type_0</th>\n",
              "      <th>holiday_type_1</th>\n",
              "      <th>holiday_type_2</th>\n",
              "      <th>store_type_0</th>\n",
              "      <th>store_type_1</th>\n",
              "      <th>store_type_2</th>\n",
              "    </tr>\n",
              "  </thead>\n",
              "  <tbody>\n",
              "    <tr>\n",
              "      <th>0</th>\n",
              "      <td>25.0</td>\n",
              "      <td>0.000</td>\n",
              "      <td>0</td>\n",
              "      <td>1</td>\n",
              "      <td>93.14</td>\n",
              "      <td>2013</td>\n",
              "      <td>1</td>\n",
              "      <td>1</td>\n",
              "      <td>1</td>\n",
              "      <td>1</td>\n",
              "      <td>...</td>\n",
              "      <td>0</td>\n",
              "      <td>0</td>\n",
              "      <td>0</td>\n",
              "      <td>1</td>\n",
              "      <td>0</td>\n",
              "      <td>0</td>\n",
              "      <td>1</td>\n",
              "      <td>0</td>\n",
              "      <td>0</td>\n",
              "      <td>1</td>\n",
              "    </tr>\n",
              "    <tr>\n",
              "      <th>1</th>\n",
              "      <td>25.0</td>\n",
              "      <td>180.589</td>\n",
              "      <td>0</td>\n",
              "      <td>1</td>\n",
              "      <td>93.14</td>\n",
              "      <td>2013</td>\n",
              "      <td>1</td>\n",
              "      <td>1</td>\n",
              "      <td>1</td>\n",
              "      <td>1</td>\n",
              "      <td>...</td>\n",
              "      <td>0</td>\n",
              "      <td>0</td>\n",
              "      <td>0</td>\n",
              "      <td>1</td>\n",
              "      <td>0</td>\n",
              "      <td>0</td>\n",
              "      <td>1</td>\n",
              "      <td>0</td>\n",
              "      <td>0</td>\n",
              "      <td>1</td>\n",
              "    </tr>\n",
              "    <tr>\n",
              "      <th>2</th>\n",
              "      <td>25.0</td>\n",
              "      <td>0.000</td>\n",
              "      <td>0</td>\n",
              "      <td>1</td>\n",
              "      <td>93.14</td>\n",
              "      <td>2013</td>\n",
              "      <td>1</td>\n",
              "      <td>1</td>\n",
              "      <td>1</td>\n",
              "      <td>1</td>\n",
              "      <td>...</td>\n",
              "      <td>0</td>\n",
              "      <td>0</td>\n",
              "      <td>0</td>\n",
              "      <td>1</td>\n",
              "      <td>0</td>\n",
              "      <td>0</td>\n",
              "      <td>1</td>\n",
              "      <td>0</td>\n",
              "      <td>0</td>\n",
              "      <td>1</td>\n",
              "    </tr>\n",
              "    <tr>\n",
              "      <th>3</th>\n",
              "      <td>25.0</td>\n",
              "      <td>810.000</td>\n",
              "      <td>0</td>\n",
              "      <td>1</td>\n",
              "      <td>93.14</td>\n",
              "      <td>2013</td>\n",
              "      <td>1</td>\n",
              "      <td>1</td>\n",
              "      <td>1</td>\n",
              "      <td>1</td>\n",
              "      <td>...</td>\n",
              "      <td>0</td>\n",
              "      <td>0</td>\n",
              "      <td>0</td>\n",
              "      <td>1</td>\n",
              "      <td>0</td>\n",
              "      <td>0</td>\n",
              "      <td>1</td>\n",
              "      <td>0</td>\n",
              "      <td>0</td>\n",
              "      <td>1</td>\n",
              "    </tr>\n",
              "    <tr>\n",
              "      <th>4</th>\n",
              "      <td>25.0</td>\n",
              "      <td>2.000</td>\n",
              "      <td>0</td>\n",
              "      <td>1</td>\n",
              "      <td>93.14</td>\n",
              "      <td>2013</td>\n",
              "      <td>1</td>\n",
              "      <td>1</td>\n",
              "      <td>1</td>\n",
              "      <td>1</td>\n",
              "      <td>...</td>\n",
              "      <td>0</td>\n",
              "      <td>0</td>\n",
              "      <td>0</td>\n",
              "      <td>1</td>\n",
              "      <td>0</td>\n",
              "      <td>0</td>\n",
              "      <td>1</td>\n",
              "      <td>0</td>\n",
              "      <td>0</td>\n",
              "      <td>1</td>\n",
              "    </tr>\n",
              "  </tbody>\n",
              "</table>\n",
              "<p>5 rows × 42 columns</p>\n",
              "</div>\n",
              "    <div class=\"colab-df-buttons\">\n",
              "\n",
              "  <div class=\"colab-df-container\">\n",
              "    <button class=\"colab-df-convert\" onclick=\"convertToInteractive('df-fc7a0471-fa5e-47d1-a192-389c774d75eb')\"\n",
              "            title=\"Convert this dataframe to an interactive table.\"\n",
              "            style=\"display:none;\">\n",
              "\n",
              "  <svg xmlns=\"http://www.w3.org/2000/svg\" height=\"24px\" viewBox=\"0 -960 960 960\">\n",
              "    <path d=\"M120-120v-720h720v720H120Zm60-500h600v-160H180v160Zm220 220h160v-160H400v160Zm0 220h160v-160H400v160ZM180-400h160v-160H180v160Zm440 0h160v-160H620v160ZM180-180h160v-160H180v160Zm440 0h160v-160H620v160Z\"/>\n",
              "  </svg>\n",
              "    </button>\n",
              "\n",
              "  <style>\n",
              "    .colab-df-container {\n",
              "      display:flex;\n",
              "      gap: 12px;\n",
              "    }\n",
              "\n",
              "    .colab-df-convert {\n",
              "      background-color: #E8F0FE;\n",
              "      border: none;\n",
              "      border-radius: 50%;\n",
              "      cursor: pointer;\n",
              "      display: none;\n",
              "      fill: #1967D2;\n",
              "      height: 32px;\n",
              "      padding: 0 0 0 0;\n",
              "      width: 32px;\n",
              "    }\n",
              "\n",
              "    .colab-df-convert:hover {\n",
              "      background-color: #E2EBFA;\n",
              "      box-shadow: 0px 1px 2px rgba(60, 64, 67, 0.3), 0px 1px 3px 1px rgba(60, 64, 67, 0.15);\n",
              "      fill: #174EA6;\n",
              "    }\n",
              "\n",
              "    .colab-df-buttons div {\n",
              "      margin-bottom: 4px;\n",
              "    }\n",
              "\n",
              "    [theme=dark] .colab-df-convert {\n",
              "      background-color: #3B4455;\n",
              "      fill: #D2E3FC;\n",
              "    }\n",
              "\n",
              "    [theme=dark] .colab-df-convert:hover {\n",
              "      background-color: #434B5C;\n",
              "      box-shadow: 0px 1px 3px 1px rgba(0, 0, 0, 0.15);\n",
              "      filter: drop-shadow(0px 1px 2px rgba(0, 0, 0, 0.3));\n",
              "      fill: #FFFFFF;\n",
              "    }\n",
              "  </style>\n",
              "\n",
              "    <script>\n",
              "      const buttonEl =\n",
              "        document.querySelector('#df-fc7a0471-fa5e-47d1-a192-389c774d75eb button.colab-df-convert');\n",
              "      buttonEl.style.display =\n",
              "        google.colab.kernel.accessAllowed ? 'block' : 'none';\n",
              "\n",
              "      async function convertToInteractive(key) {\n",
              "        const element = document.querySelector('#df-fc7a0471-fa5e-47d1-a192-389c774d75eb');\n",
              "        const dataTable =\n",
              "          await google.colab.kernel.invokeFunction('convertToInteractive',\n",
              "                                                    [key], {});\n",
              "        if (!dataTable) return;\n",
              "\n",
              "        const docLinkHtml = 'Like what you see? Visit the ' +\n",
              "          '<a target=\"_blank\" href=https://colab.research.google.com/notebooks/data_table.ipynb>data table notebook</a>'\n",
              "          + ' to learn more about interactive tables.';\n",
              "        element.innerHTML = '';\n",
              "        dataTable['output_type'] = 'display_data';\n",
              "        await google.colab.output.renderOutput(dataTable, element);\n",
              "        const docLink = document.createElement('div');\n",
              "        docLink.innerHTML = docLinkHtml;\n",
              "        element.appendChild(docLink);\n",
              "      }\n",
              "    </script>\n",
              "  </div>\n",
              "\n",
              "\n",
              "    <div id=\"df-7356139d-0d08-4a17-91a9-178a54ae8234\">\n",
              "      <button class=\"colab-df-quickchart\" onclick=\"quickchart('df-7356139d-0d08-4a17-91a9-178a54ae8234')\"\n",
              "                title=\"Suggest charts\"\n",
              "                style=\"display:none;\">\n",
              "\n",
              "<svg xmlns=\"http://www.w3.org/2000/svg\" height=\"24px\"viewBox=\"0 0 24 24\"\n",
              "     width=\"24px\">\n",
              "    <g>\n",
              "        <path d=\"M19 3H5c-1.1 0-2 .9-2 2v14c0 1.1.9 2 2 2h14c1.1 0 2-.9 2-2V5c0-1.1-.9-2-2-2zM9 17H7v-7h2v7zm4 0h-2V7h2v10zm4 0h-2v-4h2v4z\"/>\n",
              "    </g>\n",
              "</svg>\n",
              "      </button>\n",
              "\n",
              "<style>\n",
              "  .colab-df-quickchart {\n",
              "      --bg-color: #E8F0FE;\n",
              "      --fill-color: #1967D2;\n",
              "      --hover-bg-color: #E2EBFA;\n",
              "      --hover-fill-color: #174EA6;\n",
              "      --disabled-fill-color: #AAA;\n",
              "      --disabled-bg-color: #DDD;\n",
              "  }\n",
              "\n",
              "  [theme=dark] .colab-df-quickchart {\n",
              "      --bg-color: #3B4455;\n",
              "      --fill-color: #D2E3FC;\n",
              "      --hover-bg-color: #434B5C;\n",
              "      --hover-fill-color: #FFFFFF;\n",
              "      --disabled-bg-color: #3B4455;\n",
              "      --disabled-fill-color: #666;\n",
              "  }\n",
              "\n",
              "  .colab-df-quickchart {\n",
              "    background-color: var(--bg-color);\n",
              "    border: none;\n",
              "    border-radius: 50%;\n",
              "    cursor: pointer;\n",
              "    display: none;\n",
              "    fill: var(--fill-color);\n",
              "    height: 32px;\n",
              "    padding: 0;\n",
              "    width: 32px;\n",
              "  }\n",
              "\n",
              "  .colab-df-quickchart:hover {\n",
              "    background-color: var(--hover-bg-color);\n",
              "    box-shadow: 0 1px 2px rgba(60, 64, 67, 0.3), 0 1px 3px 1px rgba(60, 64, 67, 0.15);\n",
              "    fill: var(--button-hover-fill-color);\n",
              "  }\n",
              "\n",
              "  .colab-df-quickchart-complete:disabled,\n",
              "  .colab-df-quickchart-complete:disabled:hover {\n",
              "    background-color: var(--disabled-bg-color);\n",
              "    fill: var(--disabled-fill-color);\n",
              "    box-shadow: none;\n",
              "  }\n",
              "\n",
              "  .colab-df-spinner {\n",
              "    border: 2px solid var(--fill-color);\n",
              "    border-color: transparent;\n",
              "    border-bottom-color: var(--fill-color);\n",
              "    animation:\n",
              "      spin 1s steps(1) infinite;\n",
              "  }\n",
              "\n",
              "  @keyframes spin {\n",
              "    0% {\n",
              "      border-color: transparent;\n",
              "      border-bottom-color: var(--fill-color);\n",
              "      border-left-color: var(--fill-color);\n",
              "    }\n",
              "    20% {\n",
              "      border-color: transparent;\n",
              "      border-left-color: var(--fill-color);\n",
              "      border-top-color: var(--fill-color);\n",
              "    }\n",
              "    30% {\n",
              "      border-color: transparent;\n",
              "      border-left-color: var(--fill-color);\n",
              "      border-top-color: var(--fill-color);\n",
              "      border-right-color: var(--fill-color);\n",
              "    }\n",
              "    40% {\n",
              "      border-color: transparent;\n",
              "      border-right-color: var(--fill-color);\n",
              "      border-top-color: var(--fill-color);\n",
              "    }\n",
              "    60% {\n",
              "      border-color: transparent;\n",
              "      border-right-color: var(--fill-color);\n",
              "    }\n",
              "    80% {\n",
              "      border-color: transparent;\n",
              "      border-right-color: var(--fill-color);\n",
              "      border-bottom-color: var(--fill-color);\n",
              "    }\n",
              "    90% {\n",
              "      border-color: transparent;\n",
              "      border-bottom-color: var(--fill-color);\n",
              "    }\n",
              "  }\n",
              "</style>\n",
              "\n",
              "      <script>\n",
              "        async function quickchart(key) {\n",
              "          const quickchartButtonEl =\n",
              "            document.querySelector('#' + key + ' button');\n",
              "          quickchartButtonEl.disabled = true;  // To prevent multiple clicks.\n",
              "          quickchartButtonEl.classList.add('colab-df-spinner');\n",
              "          try {\n",
              "            const charts = await google.colab.kernel.invokeFunction(\n",
              "                'suggestCharts', [key], {});\n",
              "          } catch (error) {\n",
              "            console.error('Error during call to suggestCharts:', error);\n",
              "          }\n",
              "          quickchartButtonEl.classList.remove('colab-df-spinner');\n",
              "          quickchartButtonEl.classList.add('colab-df-quickchart-complete');\n",
              "        }\n",
              "        (() => {\n",
              "          let quickchartButtonEl =\n",
              "            document.querySelector('#df-7356139d-0d08-4a17-91a9-178a54ae8234 button');\n",
              "          quickchartButtonEl.style.display =\n",
              "            google.colab.kernel.accessAllowed ? 'block' : 'none';\n",
              "        })();\n",
              "      </script>\n",
              "    </div>\n",
              "\n",
              "    </div>\n",
              "  </div>\n"
            ],
            "application/vnd.google.colaboratory.intrinsic+json": {
              "type": "dataframe",
              "variable_name": "train_set"
            }
          },
          "metadata": {},
          "execution_count": 9
        }
      ],
      "source": [
        "train_set.head()"
      ]
    },
    {
      "cell_type": "code",
      "execution_count": 10,
      "id": "f7ddcced-88fa-44c7-bedc-5201ab338f8a",
      "metadata": {
        "colab": {
          "base_uri": "https://localhost:8080/"
        },
        "id": "f7ddcced-88fa-44c7-bedc-5201ab338f8a",
        "outputId": "92871d89-6ca7-4021-b3d6-e22f242fde70"
      },
      "outputs": [
        {
          "output_type": "execute_result",
          "data": {
            "text/plain": [
              "(37132, 42)"
            ]
          },
          "metadata": {},
          "execution_count": 10
        }
      ],
      "source": [
        "eval_set.shape"
      ]
    },
    {
      "cell_type": "code",
      "execution_count": 11,
      "id": "866d148b-5c6c-4be8-93a8-3b7a9fdf47b5",
      "metadata": {
        "colab": {
          "base_uri": "https://localhost:8080/",
          "height": 255
        },
        "id": "866d148b-5c6c-4be8-93a8-3b7a9fdf47b5",
        "outputId": "f3b2704b-e016-440b-c638-c238c341eba1"
      },
      "outputs": [
        {
          "output_type": "execute_result",
          "data": {
            "text/plain": [
              "        store_nbr   sales  onpromotion  cluster  dcoilwtico  year  day  month  \\\n",
              "284068       41.0    13.0            0        4       52.36  2017    2      1   \n",
              "284069       42.0     5.0            0        2       52.36  2017    2      1   \n",
              "284070       42.0     0.0            0        2       52.36  2017    2      1   \n",
              "284071       42.0    13.0            1        2       52.36  2017    2      1   \n",
              "284072       42.0  1975.0            1        2       52.36  2017    2      1   \n",
              "\n",
              "        week  day_of_week  ...  city_1  city_2  city_3  city_4  \\\n",
              "284068     1            0  ...       0       0       1       0   \n",
              "284069     1            0  ...       0       1       1       1   \n",
              "284070     1            0  ...       0       1       1       1   \n",
              "284071     1            0  ...       0       1       1       1   \n",
              "284072     1            0  ...       0       1       1       1   \n",
              "\n",
              "        holiday_type_0  holiday_type_1  holiday_type_2  store_type_0  \\\n",
              "284068               0               1               1             0   \n",
              "284069               0               1               1             0   \n",
              "284070               0               1               1             0   \n",
              "284071               0               1               1             0   \n",
              "284072               0               1               1             0   \n",
              "\n",
              "        store_type_1  store_type_2  \n",
              "284068             0             1  \n",
              "284069             0             1  \n",
              "284070             0             1  \n",
              "284071             0             1  \n",
              "284072             0             1  \n",
              "\n",
              "[5 rows x 42 columns]"
            ],
            "text/html": [
              "\n",
              "  <div id=\"df-5aef7384-6e01-4624-99d5-12ad1c715e73\" class=\"colab-df-container\">\n",
              "    <div>\n",
              "<style scoped>\n",
              "    .dataframe tbody tr th:only-of-type {\n",
              "        vertical-align: middle;\n",
              "    }\n",
              "\n",
              "    .dataframe tbody tr th {\n",
              "        vertical-align: top;\n",
              "    }\n",
              "\n",
              "    .dataframe thead th {\n",
              "        text-align: right;\n",
              "    }\n",
              "</style>\n",
              "<table border=\"1\" class=\"dataframe\">\n",
              "  <thead>\n",
              "    <tr style=\"text-align: right;\">\n",
              "      <th></th>\n",
              "      <th>store_nbr</th>\n",
              "      <th>sales</th>\n",
              "      <th>onpromotion</th>\n",
              "      <th>cluster</th>\n",
              "      <th>dcoilwtico</th>\n",
              "      <th>year</th>\n",
              "      <th>day</th>\n",
              "      <th>month</th>\n",
              "      <th>week</th>\n",
              "      <th>day_of_week</th>\n",
              "      <th>...</th>\n",
              "      <th>city_1</th>\n",
              "      <th>city_2</th>\n",
              "      <th>city_3</th>\n",
              "      <th>city_4</th>\n",
              "      <th>holiday_type_0</th>\n",
              "      <th>holiday_type_1</th>\n",
              "      <th>holiday_type_2</th>\n",
              "      <th>store_type_0</th>\n",
              "      <th>store_type_1</th>\n",
              "      <th>store_type_2</th>\n",
              "    </tr>\n",
              "  </thead>\n",
              "  <tbody>\n",
              "    <tr>\n",
              "      <th>284068</th>\n",
              "      <td>41.0</td>\n",
              "      <td>13.0</td>\n",
              "      <td>0</td>\n",
              "      <td>4</td>\n",
              "      <td>52.36</td>\n",
              "      <td>2017</td>\n",
              "      <td>2</td>\n",
              "      <td>1</td>\n",
              "      <td>1</td>\n",
              "      <td>0</td>\n",
              "      <td>...</td>\n",
              "      <td>0</td>\n",
              "      <td>0</td>\n",
              "      <td>1</td>\n",
              "      <td>0</td>\n",
              "      <td>0</td>\n",
              "      <td>1</td>\n",
              "      <td>1</td>\n",
              "      <td>0</td>\n",
              "      <td>0</td>\n",
              "      <td>1</td>\n",
              "    </tr>\n",
              "    <tr>\n",
              "      <th>284069</th>\n",
              "      <td>42.0</td>\n",
              "      <td>5.0</td>\n",
              "      <td>0</td>\n",
              "      <td>2</td>\n",
              "      <td>52.36</td>\n",
              "      <td>2017</td>\n",
              "      <td>2</td>\n",
              "      <td>1</td>\n",
              "      <td>1</td>\n",
              "      <td>0</td>\n",
              "      <td>...</td>\n",
              "      <td>0</td>\n",
              "      <td>1</td>\n",
              "      <td>1</td>\n",
              "      <td>1</td>\n",
              "      <td>0</td>\n",
              "      <td>1</td>\n",
              "      <td>1</td>\n",
              "      <td>0</td>\n",
              "      <td>0</td>\n",
              "      <td>1</td>\n",
              "    </tr>\n",
              "    <tr>\n",
              "      <th>284070</th>\n",
              "      <td>42.0</td>\n",
              "      <td>0.0</td>\n",
              "      <td>0</td>\n",
              "      <td>2</td>\n",
              "      <td>52.36</td>\n",
              "      <td>2017</td>\n",
              "      <td>2</td>\n",
              "      <td>1</td>\n",
              "      <td>1</td>\n",
              "      <td>0</td>\n",
              "      <td>...</td>\n",
              "      <td>0</td>\n",
              "      <td>1</td>\n",
              "      <td>1</td>\n",
              "      <td>1</td>\n",
              "      <td>0</td>\n",
              "      <td>1</td>\n",
              "      <td>1</td>\n",
              "      <td>0</td>\n",
              "      <td>0</td>\n",
              "      <td>1</td>\n",
              "    </tr>\n",
              "    <tr>\n",
              "      <th>284071</th>\n",
              "      <td>42.0</td>\n",
              "      <td>13.0</td>\n",
              "      <td>1</td>\n",
              "      <td>2</td>\n",
              "      <td>52.36</td>\n",
              "      <td>2017</td>\n",
              "      <td>2</td>\n",
              "      <td>1</td>\n",
              "      <td>1</td>\n",
              "      <td>0</td>\n",
              "      <td>...</td>\n",
              "      <td>0</td>\n",
              "      <td>1</td>\n",
              "      <td>1</td>\n",
              "      <td>1</td>\n",
              "      <td>0</td>\n",
              "      <td>1</td>\n",
              "      <td>1</td>\n",
              "      <td>0</td>\n",
              "      <td>0</td>\n",
              "      <td>1</td>\n",
              "    </tr>\n",
              "    <tr>\n",
              "      <th>284072</th>\n",
              "      <td>42.0</td>\n",
              "      <td>1975.0</td>\n",
              "      <td>1</td>\n",
              "      <td>2</td>\n",
              "      <td>52.36</td>\n",
              "      <td>2017</td>\n",
              "      <td>2</td>\n",
              "      <td>1</td>\n",
              "      <td>1</td>\n",
              "      <td>0</td>\n",
              "      <td>...</td>\n",
              "      <td>0</td>\n",
              "      <td>1</td>\n",
              "      <td>1</td>\n",
              "      <td>1</td>\n",
              "      <td>0</td>\n",
              "      <td>1</td>\n",
              "      <td>1</td>\n",
              "      <td>0</td>\n",
              "      <td>0</td>\n",
              "      <td>1</td>\n",
              "    </tr>\n",
              "  </tbody>\n",
              "</table>\n",
              "<p>5 rows × 42 columns</p>\n",
              "</div>\n",
              "    <div class=\"colab-df-buttons\">\n",
              "\n",
              "  <div class=\"colab-df-container\">\n",
              "    <button class=\"colab-df-convert\" onclick=\"convertToInteractive('df-5aef7384-6e01-4624-99d5-12ad1c715e73')\"\n",
              "            title=\"Convert this dataframe to an interactive table.\"\n",
              "            style=\"display:none;\">\n",
              "\n",
              "  <svg xmlns=\"http://www.w3.org/2000/svg\" height=\"24px\" viewBox=\"0 -960 960 960\">\n",
              "    <path d=\"M120-120v-720h720v720H120Zm60-500h600v-160H180v160Zm220 220h160v-160H400v160Zm0 220h160v-160H400v160ZM180-400h160v-160H180v160Zm440 0h160v-160H620v160ZM180-180h160v-160H180v160Zm440 0h160v-160H620v160Z\"/>\n",
              "  </svg>\n",
              "    </button>\n",
              "\n",
              "  <style>\n",
              "    .colab-df-container {\n",
              "      display:flex;\n",
              "      gap: 12px;\n",
              "    }\n",
              "\n",
              "    .colab-df-convert {\n",
              "      background-color: #E8F0FE;\n",
              "      border: none;\n",
              "      border-radius: 50%;\n",
              "      cursor: pointer;\n",
              "      display: none;\n",
              "      fill: #1967D2;\n",
              "      height: 32px;\n",
              "      padding: 0 0 0 0;\n",
              "      width: 32px;\n",
              "    }\n",
              "\n",
              "    .colab-df-convert:hover {\n",
              "      background-color: #E2EBFA;\n",
              "      box-shadow: 0px 1px 2px rgba(60, 64, 67, 0.3), 0px 1px 3px 1px rgba(60, 64, 67, 0.15);\n",
              "      fill: #174EA6;\n",
              "    }\n",
              "\n",
              "    .colab-df-buttons div {\n",
              "      margin-bottom: 4px;\n",
              "    }\n",
              "\n",
              "    [theme=dark] .colab-df-convert {\n",
              "      background-color: #3B4455;\n",
              "      fill: #D2E3FC;\n",
              "    }\n",
              "\n",
              "    [theme=dark] .colab-df-convert:hover {\n",
              "      background-color: #434B5C;\n",
              "      box-shadow: 0px 1px 3px 1px rgba(0, 0, 0, 0.15);\n",
              "      filter: drop-shadow(0px 1px 2px rgba(0, 0, 0, 0.3));\n",
              "      fill: #FFFFFF;\n",
              "    }\n",
              "  </style>\n",
              "\n",
              "    <script>\n",
              "      const buttonEl =\n",
              "        document.querySelector('#df-5aef7384-6e01-4624-99d5-12ad1c715e73 button.colab-df-convert');\n",
              "      buttonEl.style.display =\n",
              "        google.colab.kernel.accessAllowed ? 'block' : 'none';\n",
              "\n",
              "      async function convertToInteractive(key) {\n",
              "        const element = document.querySelector('#df-5aef7384-6e01-4624-99d5-12ad1c715e73');\n",
              "        const dataTable =\n",
              "          await google.colab.kernel.invokeFunction('convertToInteractive',\n",
              "                                                    [key], {});\n",
              "        if (!dataTable) return;\n",
              "\n",
              "        const docLinkHtml = 'Like what you see? Visit the ' +\n",
              "          '<a target=\"_blank\" href=https://colab.research.google.com/notebooks/data_table.ipynb>data table notebook</a>'\n",
              "          + ' to learn more about interactive tables.';\n",
              "        element.innerHTML = '';\n",
              "        dataTable['output_type'] = 'display_data';\n",
              "        await google.colab.output.renderOutput(dataTable, element);\n",
              "        const docLink = document.createElement('div');\n",
              "        docLink.innerHTML = docLinkHtml;\n",
              "        element.appendChild(docLink);\n",
              "      }\n",
              "    </script>\n",
              "  </div>\n",
              "\n",
              "\n",
              "    <div id=\"df-e4082889-088e-4f80-9f18-1d196f2bc1e9\">\n",
              "      <button class=\"colab-df-quickchart\" onclick=\"quickchart('df-e4082889-088e-4f80-9f18-1d196f2bc1e9')\"\n",
              "                title=\"Suggest charts\"\n",
              "                style=\"display:none;\">\n",
              "\n",
              "<svg xmlns=\"http://www.w3.org/2000/svg\" height=\"24px\"viewBox=\"0 0 24 24\"\n",
              "     width=\"24px\">\n",
              "    <g>\n",
              "        <path d=\"M19 3H5c-1.1 0-2 .9-2 2v14c0 1.1.9 2 2 2h14c1.1 0 2-.9 2-2V5c0-1.1-.9-2-2-2zM9 17H7v-7h2v7zm4 0h-2V7h2v10zm4 0h-2v-4h2v4z\"/>\n",
              "    </g>\n",
              "</svg>\n",
              "      </button>\n",
              "\n",
              "<style>\n",
              "  .colab-df-quickchart {\n",
              "      --bg-color: #E8F0FE;\n",
              "      --fill-color: #1967D2;\n",
              "      --hover-bg-color: #E2EBFA;\n",
              "      --hover-fill-color: #174EA6;\n",
              "      --disabled-fill-color: #AAA;\n",
              "      --disabled-bg-color: #DDD;\n",
              "  }\n",
              "\n",
              "  [theme=dark] .colab-df-quickchart {\n",
              "      --bg-color: #3B4455;\n",
              "      --fill-color: #D2E3FC;\n",
              "      --hover-bg-color: #434B5C;\n",
              "      --hover-fill-color: #FFFFFF;\n",
              "      --disabled-bg-color: #3B4455;\n",
              "      --disabled-fill-color: #666;\n",
              "  }\n",
              "\n",
              "  .colab-df-quickchart {\n",
              "    background-color: var(--bg-color);\n",
              "    border: none;\n",
              "    border-radius: 50%;\n",
              "    cursor: pointer;\n",
              "    display: none;\n",
              "    fill: var(--fill-color);\n",
              "    height: 32px;\n",
              "    padding: 0;\n",
              "    width: 32px;\n",
              "  }\n",
              "\n",
              "  .colab-df-quickchart:hover {\n",
              "    background-color: var(--hover-bg-color);\n",
              "    box-shadow: 0 1px 2px rgba(60, 64, 67, 0.3), 0 1px 3px 1px rgba(60, 64, 67, 0.15);\n",
              "    fill: var(--button-hover-fill-color);\n",
              "  }\n",
              "\n",
              "  .colab-df-quickchart-complete:disabled,\n",
              "  .colab-df-quickchart-complete:disabled:hover {\n",
              "    background-color: var(--disabled-bg-color);\n",
              "    fill: var(--disabled-fill-color);\n",
              "    box-shadow: none;\n",
              "  }\n",
              "\n",
              "  .colab-df-spinner {\n",
              "    border: 2px solid var(--fill-color);\n",
              "    border-color: transparent;\n",
              "    border-bottom-color: var(--fill-color);\n",
              "    animation:\n",
              "      spin 1s steps(1) infinite;\n",
              "  }\n",
              "\n",
              "  @keyframes spin {\n",
              "    0% {\n",
              "      border-color: transparent;\n",
              "      border-bottom-color: var(--fill-color);\n",
              "      border-left-color: var(--fill-color);\n",
              "    }\n",
              "    20% {\n",
              "      border-color: transparent;\n",
              "      border-left-color: var(--fill-color);\n",
              "      border-top-color: var(--fill-color);\n",
              "    }\n",
              "    30% {\n",
              "      border-color: transparent;\n",
              "      border-left-color: var(--fill-color);\n",
              "      border-top-color: var(--fill-color);\n",
              "      border-right-color: var(--fill-color);\n",
              "    }\n",
              "    40% {\n",
              "      border-color: transparent;\n",
              "      border-right-color: var(--fill-color);\n",
              "      border-top-color: var(--fill-color);\n",
              "    }\n",
              "    60% {\n",
              "      border-color: transparent;\n",
              "      border-right-color: var(--fill-color);\n",
              "    }\n",
              "    80% {\n",
              "      border-color: transparent;\n",
              "      border-right-color: var(--fill-color);\n",
              "      border-bottom-color: var(--fill-color);\n",
              "    }\n",
              "    90% {\n",
              "      border-color: transparent;\n",
              "      border-bottom-color: var(--fill-color);\n",
              "    }\n",
              "  }\n",
              "</style>\n",
              "\n",
              "      <script>\n",
              "        async function quickchart(key) {\n",
              "          const quickchartButtonEl =\n",
              "            document.querySelector('#' + key + ' button');\n",
              "          quickchartButtonEl.disabled = true;  // To prevent multiple clicks.\n",
              "          quickchartButtonEl.classList.add('colab-df-spinner');\n",
              "          try {\n",
              "            const charts = await google.colab.kernel.invokeFunction(\n",
              "                'suggestCharts', [key], {});\n",
              "          } catch (error) {\n",
              "            console.error('Error during call to suggestCharts:', error);\n",
              "          }\n",
              "          quickchartButtonEl.classList.remove('colab-df-spinner');\n",
              "          quickchartButtonEl.classList.add('colab-df-quickchart-complete');\n",
              "        }\n",
              "        (() => {\n",
              "          let quickchartButtonEl =\n",
              "            document.querySelector('#df-e4082889-088e-4f80-9f18-1d196f2bc1e9 button');\n",
              "          quickchartButtonEl.style.display =\n",
              "            google.colab.kernel.accessAllowed ? 'block' : 'none';\n",
              "        })();\n",
              "      </script>\n",
              "    </div>\n",
              "\n",
              "    </div>\n",
              "  </div>\n"
            ],
            "application/vnd.google.colaboratory.intrinsic+json": {
              "type": "dataframe",
              "variable_name": "eval_set"
            }
          },
          "metadata": {},
          "execution_count": 11
        }
      ],
      "source": [
        "eval_set.head()"
      ]
    },
    {
      "cell_type": "code",
      "source": [
        "train_data = train_set[train_set['sales'] != -1].copy()\n",
        "test_data = train_set[train_set['sales'] == -1].copy()"
      ],
      "metadata": {
        "id": "Qu6zNFFjWRjd"
      },
      "id": "Qu6zNFFjWRjd",
      "execution_count": 12,
      "outputs": []
    },
    {
      "cell_type": "code",
      "execution_count": 13,
      "id": "85632101-6ac1-4a98-bedc-19ba804abc55",
      "metadata": {
        "id": "85632101-6ac1-4a98-bedc-19ba804abc55"
      },
      "outputs": [],
      "source": [
        "X_train = train_data.drop(['log_sales','sales'], axis=1, errors='ignore')\n",
        "y_train = train_data['log_sales']\n",
        "\n",
        "X_test = test_data.drop(['log_sales','sales'], axis=1, errors='ignore')\n",
        "y_test = test_data['log_sales']"
      ]
    },
    {
      "cell_type": "code",
      "execution_count": 14,
      "id": "31d6b6c9-b938-46b9-8dd9-f0d2d814cdbc",
      "metadata": {
        "id": "31d6b6c9-b938-46b9-8dd9-f0d2d814cdbc"
      },
      "outputs": [],
      "source": [
        "X_train2, X_test2, y_train2, y_test2 = train_test_split(X_train, y_train, test_size=0.2, random_state=7)"
      ]
    },
    {
      "cell_type": "markdown",
      "id": "65c08548-034a-4440-8b30-976ce336a6e6",
      "metadata": {
        "id": "65c08548-034a-4440-8b30-976ce336a6e6"
      },
      "source": [
        "## Model 1. Linear Regression"
      ]
    },
    {
      "cell_type": "code",
      "execution_count": 15,
      "id": "4e8e8a39-640e-4c4d-a782-45edd07d8d54",
      "metadata": {
        "colab": {
          "base_uri": "https://localhost:8080/"
        },
        "id": "4e8e8a39-640e-4c4d-a782-45edd07d8d54",
        "outputId": "ccabf584-6af1-4143-a074-3aa00d3ed971"
      },
      "outputs": [
        {
          "output_type": "stream",
          "name": "stdout",
          "text": [
            "               Model  RMSLE  RMSE   MSE   MAE  Score\n",
            "0  Linear Regression   0.65  1.88  3.54  1.57    0.5\n"
          ]
        }
      ],
      "source": [
        "lr_model = LinearRegression()\n",
        "lr_model.fit(X_train2, y_train2)\n",
        "\n",
        "lr_predictions = lr_model.predict(X_test2)\n",
        "\n",
        "# Calculate metrics\n",
        "lr_mse = mean_squared_error(y_test2, lr_predictions)\n",
        "lr_mae = mean_absolute_error(y_test2, lr_predictions)\n",
        "\n",
        "y_test2_abs = abs(y_test2)\n",
        "lr_predictions_abs = abs(lr_predictions)\n",
        "\n",
        "lr_rmsle = np.sqrt(mean_squared_log_error(y_test2_abs, lr_predictions_abs))\n",
        "lr_rmse = np.sqrt(lr_mse)\n",
        "lr_score = lr_model.score(X_test2, y_test2)\n",
        "\n",
        "# Create a DataFrame to store results for Linear Regression\n",
        "results_lr = pd.DataFrame({\n",
        "    'Model': ['Linear Regression'],\n",
        "    'RMSLE': [lr_rmsle],\n",
        "    'RMSE': [lr_rmse],\n",
        "    'MSE': [lr_mse],\n",
        "    'MAE': [lr_mae],\n",
        "    'Score': [lr_score]\n",
        "}).round(2)\n",
        "\n",
        "print(results_lr)"
      ]
    },
    {
      "cell_type": "markdown",
      "id": "49937aeb-4077-46d4-9cf3-f649e3c87c5f",
      "metadata": {
        "id": "49937aeb-4077-46d4-9cf3-f649e3c87c5f"
      },
      "source": [
        "## Model 2. Random Forest Regression"
      ]
    },
    {
      "cell_type": "code",
      "execution_count": 16,
      "id": "7bebcbf7-02be-4f00-9940-8ec7ae7c8364",
      "metadata": {
        "colab": {
          "base_uri": "https://localhost:8080/"
        },
        "id": "7bebcbf7-02be-4f00-9940-8ec7ae7c8364",
        "outputId": "bc1b0061-9dc9-4c10-c5bf-d3eeec0d1377"
      },
      "outputs": [
        {
          "output_type": "stream",
          "name": "stdout",
          "text": [
            "           Model  RMSLE  RMSE   MSE   MAE  Score\n",
            "0  Random Forest   0.26  0.64  0.42  0.43   0.94\n"
          ]
        }
      ],
      "source": [
        "rf_model = RandomForestRegressor(n_estimators=25, max_depth=10, n_jobs=-1, random_state=7)\n",
        "rf_model.fit(X_train2, y_train2)\n",
        "\n",
        "rf_predictions = rf_model.predict(X_test2)\n",
        "\n",
        "# Calculate metrics\n",
        "rf_mse = mean_squared_error(y_test2, rf_predictions)\n",
        "rf_mae = mean_absolute_error(y_test2, rf_predictions)\n",
        "\n",
        "y_test2_abs = abs(y_test2)\n",
        "rf_predictions_abs = abs(rf_predictions)\n",
        "\n",
        "rf_rmsle = np.sqrt(mean_squared_log_error(y_test2_abs, rf_predictions_abs))\n",
        "rf_rmse = np.sqrt(rf_mse)\n",
        "rf_score = rf_model.score(X_test2, y_test2)\n",
        "\n",
        "# Create a DataFrame to store results for Random Forest\n",
        "results_rf = pd.DataFrame({\n",
        "    'Model': ['Random Forest'],\n",
        "    'RMSLE': [rf_rmsle],\n",
        "    'RMSE': [rf_rmse],\n",
        "    'MSE': [rf_mse],\n",
        "    'MAE': [rf_mae],\n",
        "    'Score': [rf_score]\n",
        "}).round(2)\n",
        "\n",
        "print(results_rf)"
      ]
    },
    {
      "cell_type": "markdown",
      "id": "0ebdff9a-8b72-4e17-947d-8db4defe36f9",
      "metadata": {
        "id": "0ebdff9a-8b72-4e17-947d-8db4defe36f9"
      },
      "source": [
        "## Model 3.Forecast Modelling (Light GBM)"
      ]
    },
    {
      "cell_type": "code",
      "execution_count": 17,
      "id": "bdc331e9-04a2-4a9a-b19e-b837b9903c00",
      "metadata": {
        "colab": {
          "base_uri": "https://localhost:8080/"
        },
        "id": "bdc331e9-04a2-4a9a-b19e-b837b9903c00",
        "outputId": "5df4fe1e-6de7-42fe-fdd2-64478db33bb3"
      },
      "outputs": [
        {
          "output_type": "stream",
          "name": "stdout",
          "text": [
            "Requirement already satisfied: lightgbm in /usr/local/lib/python3.11/dist-packages (4.5.0)\n",
            "Requirement already satisfied: numpy>=1.17.0 in /usr/local/lib/python3.11/dist-packages (from lightgbm) (2.0.2)\n",
            "Requirement already satisfied: scipy in /usr/local/lib/python3.11/dist-packages (from lightgbm) (1.15.2)\n"
          ]
        }
      ],
      "source": [
        "pip install lightgbm"
      ]
    },
    {
      "cell_type": "code",
      "execution_count": 18,
      "id": "1a83cc67-42a8-4c9f-8387-cef84049fea0",
      "metadata": {
        "id": "1a83cc67-42a8-4c9f-8387-cef84049fea0"
      },
      "outputs": [],
      "source": [
        "%matplotlib inline\n",
        "import time\n",
        "sns.set_style('whitegrid')"
      ]
    },
    {
      "cell_type": "code",
      "execution_count": 19,
      "id": "b7a7c740-e6ad-4f3f-84c4-2da34914d928",
      "metadata": {
        "colab": {
          "base_uri": "https://localhost:8080/"
        },
        "id": "b7a7c740-e6ad-4f3f-84c4-2da34914d928",
        "outputId": "5b109583-88f7-4bc9-aa23-5feeca4d9cfd"
      },
      "outputs": [
        {
          "output_type": "stream",
          "name": "stdout",
          "text": [
            "[LightGBM] [Info] Auto-choosing col-wise multi-threading, the overhead of testing was 0.292158 seconds.\n",
            "You can set `force_col_wise=true` to remove the overhead.\n",
            "[LightGBM] [Info] Total Bins 2075\n",
            "[LightGBM] [Info] Number of data points in the train set: 227254, number of used features: 38\n",
            "[LightGBM] [Info] Start training from score 3.231060\n",
            "      Model  RMSLE  RMSE   MSE   MAE  Score\n",
            "0  LightGBM   0.25  0.57  0.32  0.42   0.95\n"
          ]
        }
      ],
      "source": [
        "lgb_reg = LGBMRegressor(\n",
        "    boosting_type='gbdt', num_leaves=52, max_depth=10, learning_rate=0.123,\n",
        "    n_estimators=130, objective='regression', min_child_samples=20,\n",
        "    subsample=0.78, subsample_freq=4, colsample_bytree=0.58,\n",
        "    reg_alpha=10.0, reg_lambda=0.5, random_state=123\n",
        ")\n",
        "lgb_reg.fit(X_train2, y_train2)\n",
        "\n",
        "prediction = lgb_reg.predict(X_test2)\n",
        "\n",
        "# Calculate metrics\n",
        "lgbm_mse = mean_squared_error(y_test2, prediction)\n",
        "lgbm_mae = mean_absolute_error(y_test2, prediction)\n",
        "\n",
        "y_test2_abs = abs(y_test2)\n",
        "prediction_abs = abs(prediction)\n",
        "\n",
        "lgbm_rmsle = np.sqrt(mean_squared_log_error(y_test2_abs, prediction_abs))\n",
        "lgbm_rmse = np.sqrt(lgbm_mse)\n",
        "lgbm_score = lgb_reg.score(X_test2, y_test2)\n",
        "\n",
        "# Create a DataFrame to store results for LightGBM\n",
        "results_lgbm = pd.DataFrame({\n",
        "    'Model': ['LightGBM'],\n",
        "    'RMSLE': [lgbm_rmsle],\n",
        "    'RMSE': [lgbm_rmse],\n",
        "    'MSE': [lgbm_mse],\n",
        "    'MAE': [lgbm_mae],\n",
        "    'Score': [lgbm_score]\n",
        "}).round(2)\n",
        "\n",
        "print(results_lgbm)"
      ]
    },
    {
      "cell_type": "markdown",
      "id": "2a2cc03c-4746-4924-9049-9fca4f40b743",
      "metadata": {
        "id": "2a2cc03c-4746-4924-9049-9fca4f40b743"
      },
      "source": [
        "## Model 4.Forecast Modelling (XGBoost)"
      ]
    },
    {
      "cell_type": "code",
      "execution_count": 20,
      "id": "d22c0bc3-9d9f-49c6-9fd0-3a530828774f",
      "metadata": {
        "colab": {
          "base_uri": "https://localhost:8080/"
        },
        "id": "d22c0bc3-9d9f-49c6-9fd0-3a530828774f",
        "outputId": "578ce48b-49fe-48f5-b877-0d364cd5024d"
      },
      "outputs": [
        {
          "output_type": "stream",
          "name": "stdout",
          "text": [
            "Requirement already satisfied: xgboost in /usr/local/lib/python3.11/dist-packages (2.1.4)\n",
            "Requirement already satisfied: numpy in /usr/local/lib/python3.11/dist-packages (from xgboost) (2.0.2)\n",
            "Requirement already satisfied: nvidia-nccl-cu12 in /usr/local/lib/python3.11/dist-packages (from xgboost) (2.21.5)\n",
            "Requirement already satisfied: scipy in /usr/local/lib/python3.11/dist-packages (from xgboost) (1.15.2)\n"
          ]
        }
      ],
      "source": [
        "!pip install xgboost"
      ]
    },
    {
      "cell_type": "code",
      "execution_count": 21,
      "id": "f6d889b6-8160-4ccf-be16-3388ae3924a7",
      "metadata": {
        "colab": {
          "base_uri": "https://localhost:8080/"
        },
        "id": "f6d889b6-8160-4ccf-be16-3388ae3924a7",
        "outputId": "1a186da7-b1ef-4029-b9a0-cbe3dbb752ef"
      },
      "outputs": [
        {
          "output_type": "stream",
          "name": "stdout",
          "text": [
            "     Model  RMSLE  RMSE   MSE   MAE  Score\n",
            "0  XGBoost   0.23  0.53  0.28  0.39   0.96\n"
          ]
        }
      ],
      "source": [
        "xgb_reg = XGBRegressor(\n",
        "    random_state=123, n_estimators=100, gamma=24.47,\n",
        "    subsample=0.75, learning_rate=0.1235, colsample_bytree=1,\n",
        "    max_depth=10, min_child_weight=0.2150999, sub_sample=0.74,\n",
        "    reg_lambda=0.8\n",
        ")\n",
        "xgb_reg.fit(X_train2, y_train2)\n",
        "\n",
        "prediction = xgb_reg.predict(X_test2)\n",
        "\n",
        "# Calculate metrics\n",
        "xgb_mse = mean_squared_error(y_test2, prediction)\n",
        "xgb_mae = mean_absolute_error(y_test2, prediction)\n",
        "\n",
        "y_test2_abs = abs(y_test2)\n",
        "prediction_abs = abs(prediction)\n",
        "\n",
        "xgb_rmsle = np.sqrt(mean_squared_log_error(y_test2_abs, prediction_abs))\n",
        "xgb_rmse = np.sqrt(xgb_mse)\n",
        "xgb_score = xgb_reg.score(X_test2, y_test2)\n",
        "\n",
        "# Create a DataFrame to store results for XGBoost\n",
        "results_xgb = pd.DataFrame({\n",
        "    'Model': ['XGBoost'],\n",
        "    'RMSLE': [xgb_rmsle],\n",
        "    'RMSE': [xgb_rmse],\n",
        "    'MSE': [xgb_mse],\n",
        "    'MAE': [xgb_mae],\n",
        "    'Score': [xgb_score]\n",
        "}).round(2)\n",
        "\n",
        "print(results_xgb)"
      ]
    },
    {
      "cell_type": "code",
      "execution_count": 22,
      "id": "8d204426-226a-4671-be4a-c32bf14951e2",
      "metadata": {
        "colab": {
          "base_uri": "https://localhost:8080/"
        },
        "id": "8d204426-226a-4671-be4a-c32bf14951e2",
        "outputId": "247960d2-640b-48da-eb4c-1fa9dab88c96"
      },
      "outputs": [
        {
          "output_type": "stream",
          "name": "stdout",
          "text": [
            "               Model  RMSLE  RMSE   MSE   MAE  Score\n",
            "0            XGBoost   0.23  0.53  0.28  0.39   0.96\n",
            "1           LightGBM   0.25  0.57  0.32  0.42   0.95\n",
            "2      Random Forest   0.26  0.64  0.42  0.43   0.94\n",
            "3  Linear Regression   0.65  1.88  3.54  1.57   0.50\n"
          ]
        }
      ],
      "source": [
        "results_df = pd.concat([results_lr, results_rf, results_lgbm, results_xgb], ignore_index=True)\n",
        "\n",
        "results_df = results_df.sort_values(by='RMSLE', ascending=True)\n",
        "\n",
        "results_df = results_df.reset_index(drop=True)\n",
        "\n",
        "print(results_df)"
      ]
    },
    {
      "cell_type": "markdown",
      "id": "916dc51f-04a9-4225-8d43-b5a428e9875e",
      "metadata": {
        "id": "916dc51f-04a9-4225-8d43-b5a428e9875e"
      },
      "source": [
        "##### . **RMSLE** is particularly useful when the target variable has a wide range of values. Lower RMSLE values indicate a better model fit.\n",
        "##### . **RMSE** measures the magnitude of errors. Lower RMSE indicates better performance, especially when large errors are penalized.\n",
        "##### . **MSE** is the squared error and indicates overall model accuracy. Lower MSE values are better.\n",
        "##### . **MAE** measures the average error magnitude without considering direction. A lower MAE indicates better accuracy.\n",
        "\n",
        "\n",
        "##### The RMSLE and RMSE represent the model's prediction error, with lower values indicating better performance. The MSE provides a measure of the squared error between predicted and actual values, while the MAE measures the average absolute difference between predictions and actuals.\n"
      ]
    },
    {
      "cell_type": "markdown",
      "id": "cb280ec8-5e35-4a77-bca3-494f8cb84cd3",
      "metadata": {
        "id": "cb280ec8-5e35-4a77-bca3-494f8cb84cd3"
      },
      "source": [
        "##### - **Best Performing Models**: **XGBoost** and **Random Forest** perform the best in terms of all metrics (RMSLE, RMSE, MSE, and MAE). They have the lowest errors and highest scores.\n",
        "#####  - **Other Notable Models**: **LightGBM** is also a strong contender, although it slightly lags behind XGBoost and Random Forest in terms of accuracy.\n",
        "##### - **Models to Consider for Improvement**: **Linear Regression** shows relatively weaker performance, especially in comparison to tree-based models like XGBoost and Random Forest."
      ]
    },
    {
      "cell_type": "markdown",
      "id": "cc9c41a5-84ef-4362-bf73-9798415d9019",
      "metadata": {
        "id": "cc9c41a5-84ef-4362-bf73-9798415d9019"
      },
      "source": [
        "# Hyperparameter Tuning"
      ]
    },
    {
      "cell_type": "code",
      "execution_count": 23,
      "id": "8df1083b-9e83-47cc-b228-aa13b7d61ace",
      "metadata": {
        "colab": {
          "base_uri": "https://localhost:8080/"
        },
        "id": "8df1083b-9e83-47cc-b228-aa13b7d61ace",
        "outputId": "1365428a-92f2-4cd9-d6fc-88667ae08aa7"
      },
      "outputs": [
        {
          "output_type": "stream",
          "name": "stdout",
          "text": [
            "          Model  RMSLE  RMSE  MSE   MAE  Score\n",
            "0  Best XGBoost    0.2  0.44  0.2  0.31   0.97\n"
          ]
        }
      ],
      "source": [
        "from sklearn.model_selection import RandomizedSearchCV\n",
        "\n",
        "X_train, X_eval, y_train, y_eval = train_test_split(X_train, y_train, test_size=0.2, random_state=42)\n",
        "\n",
        "param_grid_xgb = {\n",
        "    'n_estimators': [100, 200, 500, 1000],\n",
        "    'max_depth': [3, 5, 7, 9],\n",
        "    'learning_rate': [0.01, 0.1, 0.2],\n",
        "    'subsample': [0.7, 0.8, 0.9, 1.0],\n",
        "    'colsample_bytree': [0.7, 0.8, 0.9, 1.0]\n",
        "}\n",
        "\n",
        "xgb_model = XGBRegressor(random_state=42, n_jobs=-1)\n",
        "\n",
        "# Initialize RandomizedSearchCV with more iterations\n",
        "random_search_xgb = RandomizedSearchCV(\n",
        "    xgb_model,\n",
        "    param_distributions=param_grid_xgb,\n",
        "    n_iter=20,\n",
        "    scoring='neg_mean_squared_error',\n",
        "    cv=3,\n",
        "    n_jobs=-1,\n",
        "    random_state=42\n",
        ")\n",
        "\n",
        "random_search_xgb.fit(X_train, y_train)\n",
        "\n",
        "best_xgb_model = random_search_xgb.best_estimator_\n",
        "best_xgb_params = random_search_xgb.best_params_\n",
        "\n",
        "best_xgb_predictions = best_xgb_model.predict(X_eval)\n",
        "\n",
        "best_xgb_mse = mean_squared_error(y_eval, best_xgb_predictions)\n",
        "best_xgb_rmse = np.sqrt(best_xgb_mse)\n",
        "best_xgb_mae = mean_absolute_error(y_eval, best_xgb_predictions)\n",
        "best_xgb_score = best_xgb_model.score(X_eval, y_eval)\n",
        "\n",
        "abs_best_xgb_predictions = np.abs(best_xgb_predictions)\n",
        "abs_y_eval = np.abs(y_eval)\n",
        "\n",
        "best_xgb_rmsle = np.sqrt(mean_squared_log_error(abs_y_eval, abs_best_xgb_predictions))\n",
        "\n",
        "best_results_xgb = pd.DataFrame({\n",
        "    'Model': ['Best XGBoost'],\n",
        "    'RMSLE': [best_xgb_rmsle],\n",
        "    'RMSE': [best_xgb_rmse],\n",
        "    'MSE': [best_xgb_mse],\n",
        "    'MAE': [best_xgb_mae],\n",
        "    'Score': [best_xgb_score]\n",
        "}).round(2)\n",
        "\n",
        "print(best_results_xgb)"
      ]
    },
    {
      "cell_type": "code",
      "execution_count": 24,
      "id": "94774727-eb70-491f-9b80-e1cfdefce392",
      "metadata": {
        "colab": {
          "base_uri": "https://localhost:8080/"
        },
        "id": "94774727-eb70-491f-9b80-e1cfdefce392",
        "outputId": "207da462-f3b5-46f5-ab44-56a2f0f91e43"
      },
      "outputs": [
        {
          "output_type": "stream",
          "name": "stdout",
          "text": [
            "\n",
            "Best Hyperparameters for XGBoost: {'subsample': 0.8, 'n_estimators': 200, 'max_depth': 9, 'learning_rate': 0.1, 'colsample_bytree': 0.9}\n"
          ]
        }
      ],
      "source": [
        "print(\"\\nBest Hyperparameters for XGBoost:\", best_xgb_params)"
      ]
    },
    {
      "cell_type": "markdown",
      "id": "df5fd570-68bf-4049-896b-9c8dc5d6e9c0",
      "metadata": {
        "id": "df5fd570-68bf-4049-896b-9c8dc5d6e9c0"
      },
      "source": [
        "### XGBoost Model Hyperparameter Tuning using Randomized Search\n",
        "\n",
        "The **XGBoost** model was fine-tuned using a **randomized search** to identify the optimal combination of hyperparameters that would maximize its performance. The search led to the following best hyperparameters:\n",
        "\n",
        "- **Number of Estimators (Trees)**: 200\n",
        "- **Maximum Depth**: 9\n",
        "- **Learning Rate**: 0.1\n",
        "- **Subsample**: 0.8\n",
        "- **Colsample Bytree**: 0.9\n",
        "\n",
        "These hyperparameters represent the configuration that resulted in the best performance for the **XGBoost** model on the evaluation data. The selection of these values was based on their ability to minimize the **Mean Squared Error (MSE)**, a key indicator of predictive accuracy. By fine-tuning these hyperparameters, the model's generalization ability to unseen data has been notably improved.\n",
        "\n",
        "After applying the optimal hyperparameters, the **XGBoost** model's performance on the evaluation dataset is as follows:\n",
        "\n",
        "- **Root Mean Squared Logarithmic Error (RMSLE)**: 0.2\n",
        "  The RMSLE decreased after tuning, indicating that the model has become better at handling variations in the target variable.\n",
        "\n",
        "- **Root Mean Squared Error (RMSE)**: 0.44\n",
        "  After tuning, the RMSE improved, reflecting that the model’s predictions are more accurate on average.\n",
        "\n",
        "- **Mean Squared Error (MSE)**: 0.2\n",
        "  The MSE decreased, signaling that the model's predictions are now closer to the true values on average.\n",
        "\n",
        "- **Mean Absolute Error (MAE)**: 0.31  \n",
        "  After tuning, the MAE reduced, suggesting that the model’s predictions are more precise compared to the actual values.\n",
        "\n",
        "The hyperparameter tuning process resulted in improvements across all evaluation metrics, indicating that the model's performance has been significantly enhanced. This suggests that the tuned **XGBoost** model is a better fit for the dataset and provides more accurate predictions of the target variable. These metrics provide valuable insights into the model's accuracy and its ability to predict the target values reliably.\n",
        "\n",
        "### Summary:\n",
        "In summary, the **XGBoost** model, after optimizing the hyperparameters, shows a marked improvement in predictive performance compared to its initial configuration. It effectively captures the relationships between features and the target variable, resulting in more accurate predictions on the evaluation data.\n"
      ]
    },
    {
      "cell_type": "markdown",
      "source": [
        "# Residual Plot to evaluate model fit and detect patterns in forecast errors"
      ],
      "metadata": {
        "id": "E5cHhtVmYK4v"
      },
      "id": "E5cHhtVmYK4v"
    },
    {
      "cell_type": "code",
      "source": [
        "residuals = y_eval - best_xgb_predictions\n",
        "plt.figure(figsize=(10, 6))\n",
        "sns.scatterplot(x=best_xgb_predictions, y=residuals)\n",
        "plt.xlabel('Predicted Values')\n",
        "plt.ylabel('Residuals')\n",
        "plt.title('Residual Plot')\n",
        "plt.show()"
      ],
      "metadata": {
        "colab": {
          "base_uri": "https://localhost:8080/",
          "height": 564
        },
        "id": "GAkySjcaYEkZ",
        "outputId": "f50f66f0-07d3-457a-82fa-735ce8ca1846"
      },
      "id": "GAkySjcaYEkZ",
      "execution_count": 25,
      "outputs": [
        {
          "output_type": "display_data",
          "data": {
            "text/plain": [
              "<Figure size 1000x600 with 1 Axes>"
            ],
            "image/png": "[encoded data removed]"
          },
          "metadata": {}
        }
      ]
    },
    {
      "cell_type": "markdown",
      "source": [
        "# Feature Importance"
      ],
      "metadata": {
        "id": "FE81IiJsIWJp"
      },
      "id": "FE81IiJsIWJp"
    },
    {
      "cell_type": "code",
      "source": [
        "rf_model_fi = RandomForestRegressor(n_estimators=25, max_depth=10, n_jobs=-1, random_state=7)\n",
        "rf_model_fi.fit(X_train, y_train)\n",
        "\n",
        "feature_importances = pd.Series(rf_model_fi.feature_importances_, index=X_train.columns)\n",
        "feature_importances = feature_importances.sort_values(ascending=False)\n",
        "\n",
        "top_10_features = feature_importances.head(10)\n",
        "plt.figure(figsize=(10, 6))\n",
        "sns.barplot(x=top_10_features, y=top_10_features.index)\n",
        "plt.xlabel('Feature Importance')\n",
        "plt.ylabel('Top 10 Features')\n",
        "plt.title('Top 10 Random Forest Feature Importances')\n",
        "plt.tight_layout()\n",
        "plt.show()"
      ],
      "metadata": {
        "colab": {
          "base_uri": "https://localhost:8080/",
          "height": 607
        },
        "id": "V4N2OJw6Azgm",
        "outputId": "72acfdfb-1570-4e04-8084-e51d48068c1e"
      },
      "id": "V4N2OJw6Azgm",
      "execution_count": 26,
      "outputs": [
        {
          "output_type": "display_data",
          "data": {
            "text/plain": [
              "<Figure size 1000x600 with 1 Axes>"
            ],
            "image/png": "[encoded data removed]"
          },
          "metadata": {}
        }
      ]
    },
    {
      "cell_type": "markdown",
      "source": [
        "# Actual vs Predicted"
      ],
      "metadata": {
        "id": "t1jzG-TdIgiU"
      },
      "id": "t1jzG-TdIgiU"
    },
    {
      "cell_type": "code",
      "source": [
        "actual_sales = np.expm1(y_eval)\n",
        "safe_predictions = np.clip(best_xgb_predictions, 0, None)\n",
        "predicted_sales = np.expm1(safe_predictions)\n",
        "\n",
        "actual_vs_predicted = pd.DataFrame({'Actual': actual_sales.astype(int), 'Predicted': predicted_sales.astype(int)})\n",
        "\n",
        "print(actual_vs_predicted.head(20))"
      ],
      "metadata": {
        "colab": {
          "base_uri": "https://localhost:8080/"
        },
        "id": "VrAXgcwJBj45",
        "outputId": "23c243f5-7092-4ff8-e4c6-bb5954faf30d"
      },
      "id": "VrAXgcwJBj45",
      "execution_count": 27,
      "outputs": [
        {
          "output_type": "stream",
          "name": "stdout",
          "text": [
            "        Actual  Predicted\n",
            "263205       0          0\n",
            "48259        7          8\n",
            "79321       61         96\n",
            "9865         0          0\n",
            "171679       5          2\n",
            "87067     1407       1171\n",
            "263711    1589       1713\n",
            "58356        5          4\n",
            "188112       7          3\n",
            "200009       1          1\n",
            "48262       44         36\n",
            "11047        5          5\n",
            "254859      26         22\n",
            "147506     335        452\n",
            "273749       1          1\n",
            "52099        0          0\n",
            "240482     114        188\n",
            "34192      155        107\n",
            "83154        0          0\n",
            "219853      10          4\n"
          ]
        }
      ]
    },
    {
      "cell_type": "code",
      "source": [
        "with open('/content/drive/MyDrive/favorita-grocery-sales-forecasting/xgboost_model.pkl', 'wb') as file:\n",
        "   pickle.dump(best_xgb_model, file)"
      ],
      "metadata": {
        "id": "Ha607kt986Y-"
      },
      "id": "Ha607kt986Y-",
      "execution_count": 28,
      "outputs": []
    },
    {
      "cell_type": "code",
      "source": [
        "X_train.columns"
      ],
      "metadata": {
        "colab": {
          "base_uri": "https://localhost:8080/"
        },
        "id": "CUwjt52MJxUl",
        "outputId": "e59bcc8d-ab1d-439e-96ec-08f80d045694"
      },
      "id": "CUwjt52MJxUl",
      "execution_count": 29,
      "outputs": [
        {
          "output_type": "execute_result",
          "data": {
            "text/plain": [
              "Index(['store_nbr', 'onpromotion', 'cluster', 'dcoilwtico', 'year', 'day',\n",
              "       'month', 'week', 'day_of_week', 'is_weekend', 'quarter', 'season',\n",
              "       'Days_to_Thanksgiving', 'Days_to_Christmas', 'is_holiday', 'price',\n",
              "       'lag_1_log_sales', 'lag_7_log_sales', 'lag_14_log_sales', 'lag_promo_1',\n",
              "       'rolling_promo_7', 'rolling_7_log_sales', 'rolling_14_log_sales',\n",
              "       'family_0', 'family_1', 'family_2', 'family_3', 'family_4', 'family_5',\n",
              "       'city_0', 'city_1', 'city_2', 'city_3', 'city_4', 'holiday_type_0',\n",
              "       'holiday_type_1', 'holiday_type_2', 'store_type_0', 'store_type_1',\n",
              "       'store_type_2'],\n",
              "      dtype='object')"
            ]
          },
          "metadata": {},
          "execution_count": 29
        }
      ]
    },
    {
      "cell_type": "markdown",
      "source": [
        "# Prediction Function"
      ],
      "metadata": {
        "id": "QevSiXNbXBX1"
      },
      "id": "QevSiXNbXBX1"
    },
    {
      "cell_type": "code",
      "source": [
        "def predict_sales(user_input, model, binary_encoder, model_features):\n",
        "    user_input['date'] = pd.to_datetime(user_input['date'])\n",
        "    if user_input['date'] < pd.to_datetime('2017-01-01'):\n",
        "        raise ValueError(\"Date must be after 2017.\")\n",
        "\n",
        "    user_input_df = pd.DataFrame([user_input])\n",
        "\n",
        "    user_input_df['day'] = user_input_df['date'].dt.day\n",
        "    user_input_df['month'] = user_input_df['date'].dt.month\n",
        "    user_input_df['week'] = user_input_df['date'].dt.isocalendar().week.astype(int)\n",
        "    user_input_df['year'] = user_input_df['date'].dt.year\n",
        "    user_input_df['day_of_week'] = user_input_df['date'].dt.dayofweek\n",
        "    user_input_df['is_weekend'] = user_input_df['day_of_week'].apply(lambda x: 1 if x >= 5 else 0)\n",
        "    user_input_df['quarter'] = user_input_df['date'].dt.quarter\n",
        "    user_input_df['season'] = user_input_df['month'].apply(\n",
        "        lambda x: 0 if x in [2, 3] else 1 if x in [4, 5, 6] else 2 if x in [7, 8]\n",
        "        else 3 if x in [9, 10, 11] else 4\n",
        "    )\n",
        "\n",
        "    user_input_df['Days_to_Thanksgiving'] = (\n",
        "        pd.to_datetime(user_input_df[\"year\"].astype(str) + \"-11-24\") - user_input_df[\"date\"]\n",
        "    ).dt.days.astype(int)\n",
        "    user_input_df['Days_to_Christmas'] = (\n",
        "        pd.to_datetime(user_input_df[\"year\"].astype(str) + \"-12-24\") - user_input_df[\"date\"]\n",
        "    ).dt.days.astype(int)\n",
        "\n",
        "    user_input_df['is_holiday'] = 0\n",
        "    user_input_df['onpromotion'] = user_input.get('onpromotion', 0)\n",
        "    user_input_df['price'] = user_input.get('current_price', 0)\n",
        "    user_input_df['dcoilwtico'] = user_input.get('dcoilwtico', 0)\n",
        "    user_input_df['store_nbr'] = user_input.get('store_nbr', 1)\n",
        "    user_input_df['cluster'] = user_input.get('cluster', 3)\n",
        "\n",
        "    for col in ['lag_1_log_sales', 'lag_7_log_sales', 'lag_14_log_sales',\n",
        "                'lag_promo_1', 'rolling_promo_7', 'rolling_7_log_sales', 'rolling_14_log_sales']:\n",
        "        user_input_df[col] = 0\n",
        "\n",
        "    user_input_df['holiday_type'] = 'Work Day'\n",
        "\n",
        "    categorical_cols = ['family', 'store_type', 'city', 'holiday_type']\n",
        "    encoded_df = binary_encoder.transform(user_input_df[categorical_cols])\n",
        "    user_input_df = pd.concat([user_input_df.drop(columns=categorical_cols), encoded_df], axis=1)\n",
        "\n",
        "    for col in model_features:\n",
        "        if col not in user_input_df:\n",
        "            user_input_df[col] = 0\n",
        "\n",
        "    user_input_df = user_input_df[model_features].astype(float)\n",
        "\n",
        "    log_sales_pred = model.predict(user_input_df)[0]\n",
        "    sales_pred = np.expm1(log_sales_pred)\n",
        "    if sales_pred <= 0:\n",
        "        sales_pred = 1\n",
        "\n",
        "    return int(sales_pred)\n"
      ],
      "metadata": {
        "id": "OQvxyFv7KSFk"
      },
      "id": "OQvxyFv7KSFk",
      "execution_count": 30,
      "outputs": []
    },
    {
      "cell_type": "code",
      "source": [
        "pip install category_encoders"
      ],
      "metadata": {
        "colab": {
          "base_uri": "https://localhost:8080/"
        },
        "id": "x21eAmGkp3aP",
        "outputId": "aadb64fe-789e-43fd-ebbb-482a5cf5f29b"
      },
      "id": "x21eAmGkp3aP",
      "execution_count": 31,
      "outputs": [
        {
          "output_type": "stream",
          "name": "stdout",
          "text": [
            "Collecting category_encoders\n",
            "  Downloading category_encoders-2.8.1-py3-none-any.whl.metadata (7.9 kB)\n",
            "Requirement already satisfied: numpy>=1.14.0 in /usr/local/lib/python3.11/dist-packages (from category_encoders) (2.0.2)\n",
            "Requirement already satisfied: pandas>=1.0.5 in /usr/local/lib/python3.11/dist-packages (from category_encoders) (2.2.2)\n",
            "Requirement already satisfied: patsy>=0.5.1 in /usr/local/lib/python3.11/dist-packages (from category_encoders) (1.0.1)\n",
            "Requirement already satisfied: scikit-learn>=1.6.0 in /usr/local/lib/python3.11/dist-packages (from category_encoders) (1.6.1)\n",
            "Requirement already satisfied: scipy>=1.0.0 in /usr/local/lib/python3.11/dist-packages (from category_encoders) (1.15.2)\n",
            "Requirement already satisfied: statsmodels>=0.9.0 in /usr/local/lib/python3.11/dist-packages (from category_encoders) (0.14.4)\n",
            "Requirement already satisfied: python-dateutil>=2.8.2 in /usr/local/lib/python3.11/dist-packages (from pandas>=1.0.5->category_encoders) (2.9.0.post0)\n",
            "Requirement already satisfied: pytz>=2020.1 in /usr/local/lib/python3.11/dist-packages (from pandas>=1.0.5->category_encoders) (2025.2)\n",
            "Requirement already satisfied: tzdata>=2022.7 in /usr/local/lib/python3.11/dist-packages (from pandas>=1.0.5->category_encoders) (2025.2)\n",
            "Requirement already satisfied: joblib>=1.2.0 in /usr/local/lib/python3.11/dist-packages (from scikit-learn>=1.6.0->category_encoders) (1.4.2)\n",
            "Requirement already satisfied: threadpoolctl>=3.1.0 in /usr/local/lib/python3.11/dist-packages (from scikit-learn>=1.6.0->category_encoders) (3.6.0)\n",
            "Requirement already satisfied: packaging>=21.3 in /usr/local/lib/python3.11/dist-packages (from statsmodels>=0.9.0->category_encoders) (24.2)\n",
            "Requirement already satisfied: six>=1.5 in /usr/local/lib/python3.11/dist-packages (from python-dateutil>=2.8.2->pandas>=1.0.5->category_encoders) (1.17.0)\n",
            "Downloading category_encoders-2.8.1-py3-none-any.whl (85 kB)\n",
            "\u001b[2K   \u001b[90m━━━━━━━━━━━━━━━━━━━━━━━━━━━━━━━━━━━━━━━━\u001b[0m \u001b[32m85.7/85.7 kB\u001b[0m \u001b[31m5.8 MB/s\u001b[0m eta \u001b[36m0:00:00\u001b[0m\n",
            "\u001b[?25hInstalling collected packages: category_encoders\n",
            "Successfully installed category_encoders-2.8.1\n"
          ]
        }
      ]
    },
    {
      "cell_type": "code",
      "source": [
        "with open('/content/drive/MyDrive/favorita-grocery-sales-forecasting/xgboost_model.pkl', 'rb') as file:\n",
        "    trained_model = pickle.load(file)\n",
        "\n",
        "with open('/content/drive/MyDrive/favorita-grocery-sales-forecasting/binary_encoder.pkl', 'rb') as file:\n",
        "    binary_encoder = pickle.load(file)"
      ],
      "metadata": {
        "id": "LpQDM37zK2-J"
      },
      "id": "LpQDM37zK2-J",
      "execution_count": 32,
      "outputs": []
    },
    {
      "cell_type": "code",
      "source": [
        "user_input = {\n",
        "    'onpromotion': 0,\n",
        "    'date': '2026-12-17',\n",
        "    'dcoilwtico': 34,\n",
        "    'family': 'PRODUCE',\n",
        "    'city': 'Daule',\n",
        "    'current_price': 12,\n",
        "    'store_type': 'B'\n",
        "}\n",
        "\n",
        "predicted_sales = predict_sales(user_input, trained_model, binary_encoder, X_train.columns)\n",
        "print(f\"Predicted sales: {predicted_sales}\")"
      ],
      "metadata": {
        "colab": {
          "base_uri": "https://localhost:8080/"
        },
        "id": "L51icPecKeqg",
        "outputId": "632fb9b3-71ab-4374-ac99-a008622a72d8"
      },
      "id": "L51icPecKeqg",
      "execution_count": 35,
      "outputs": [
        {
          "output_type": "stream",
          "name": "stdout",
          "text": [
            "Predicted sales: 21\n"
          ]
        }
      ]
    }
  ],
  "metadata": {
    "kernelspec": {
      "display_name": "Python [conda env:base] *",
      "language": "python",
      "name": "conda-base-py"
    },
    "language_info": {
      "codemirror_mode": {
        "name": "ipython",
        "version": 3
      },
      "file_extension": ".py",
      "mimetype": "text/x-python",
      "name": "python",
      "nbconvert_exporter": "python",
      "pygments_lexer": "ipython3",
      "version": "3.12.7"
    },
    "colab": {
      "provenance": []
    }
  },
  "nbformat": 4,
  "nbformat_minor": 5
}